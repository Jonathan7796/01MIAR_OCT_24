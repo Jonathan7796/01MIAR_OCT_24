{
 "cells": [
  {
   "cell_type": "markdown",
   "id": "fef2da16-81fb-4f5d-b809-b5308c0f2580",
   "metadata": {},
   "source": [
    "# Máster Universitario en Inteligencia Artificial\n",
    "# 02MIAR: Matemáticas para la IA\n",
    "\n",
    "## Ejercicios Evaluables"
   ]
  },
  {
   "cell_type": "markdown",
   "id": "6edded99-33b2-47df-830b-f85f9d0a634c",
   "metadata": {},
   "source": [
    "1. Tal y como ya hemos visto en clase, la variedad de herramientas proporcionadas por el\n",
    "álgebra lineal son cruciales para desarrollar y fundamentar las bases de una variedad de\n",
    "técnicas relacionadas con el aprendizaje automático. Con ella, podemos describir el proceso\n",
    "de propagación hacia adelante en una red neuronal, identificar mínimos locales en funciones\n",
    "multivariables (crucial para el proceso de retropropagación) o la descripción y empleo de\n",
    "métodos de reducción de la dimensionalidad, como el análisis de componentes principales\n",
    "(PCA), entre muchas otras aplicaciones.\n",
    "Cuando trabajamos en la práctica dentro de este ámbito, la cantidad de datos que manejamos\n",
    "puede ser muy grande, por lo que es especialmente importante emplear algoritmos eficientes\n",
    "y optimizados para reducir el coste computacional en la medida de lo posible. Por todo ello,\n",
    "el objetivo de este ejercicio es el de ilustrar las diferentes alternativas que pueden existir\n",
    "para realizar un proceso relacionado con el álgebra lineal y el impacto que puede tener cada\n",
    "variante en términos del coste computacional del mismo. En este caso en particular, y a modo\n",
    "de ilustración, nos centraremos en el cálculo del determinante de una matriz."
   ]
  },
  {
   "cell_type": "markdown",
   "id": "6b4aca32-2728-4314-a500-61e0dadd4229",
   "metadata": {},
   "source": [
    "a) [1 punto] Implementa una funci´on, determinante recursivo, que obtenga el determinante\n",
    "de una matriz cuadrada utilizando la definici´on recursiva de Laplace."
   ]
  },
  {
   "cell_type": "code",
   "execution_count": null,
   "id": "b783ba85-350a-4bbf-b8d4-7b2f5ba68e82",
   "metadata": {},
   "outputs": [],
   "source": [
    "Importacion de librerias:"
   ]
  },
  {
   "cell_type": "code",
   "execution_count": null,
   "id": "dab3e87e-a8d3-4ed1-97fe-110580cae718",
   "metadata": {},
   "outputs": [],
   "source": [
    "import numpy as np\n",
    "import time\n",
    "\n",
    "\n",
    "\n",
    "\n",
    "\n",
    "# d) Implementación de la eliminación de Gauss con pivoteo parcial\n",
    "def gauss_eliminacion(matrix):\n",
    "    n = matrix.shape[0]\n",
    "    A = matrix.astype(float)\n",
    "    signo = 1\n",
    "\n",
    "    for i in range(n):\n",
    "        # Pivoteo parcial\n",
    "        max_row = np.argmax(abs(A[i:, i])) + i\n",
    "        if i != max_row:\n",
    "            A[[i, max_row]] = A[[max_row, i]]\n",
    "            signo *= -1\n",
    "\n",
    "        for j in range(i + 1, n):\n",
    "            factor = A[j, i] / A[i, i]\n",
    "            A[j, i:] -= factor * A[i, i:]\n",
    "\n",
    "    return A, signo\n",
    "\n",
    "# e) Determinante usando eliminación de Gauss\n",
    "def determinante_gauss(matrix):\n",
    "    if matrix.shape[0] != matrix.shape[1]:\n",
    "        raise ValueError(\"La matriz debe ser cuadrada.\")\n",
    "\n",
    "    A, signo = gauss_eliminacion(matrix)\n",
    "    return signo * np.prod(np.diag(A))\n",
    "\n",
    "# f) Complejidad computacional\n",
    "\"\"\"\n",
    "1. Determinante recursivo: O(n!).\n",
    "2. Eliminación de Gauss: O(n^3).\n",
    "\"\"\"\n",
    "\n",
    "# g) Comparación de tiempos\n",
    "resultados = []\n",
    "for n in range(2, 11):\n",
    "    A = np.random.rand(n, n)\n",
    "\n",
    "    start = time.time()\n",
    "    try:\n",
    "        determinante_recursivo(A)\n",
    "    except RecursionError:\n",
    "        rec_time = None\n",
    "    else:\n",
    "        rec_time = time.time() - start\n",
    "\n",
    "    start = time.time()\n",
    "    determinante_gauss(A)\n",
    "    gauss_time = time.time() - start\n",
    "\n",
    "    resultados.append((n, rec_time, gauss_time))\n",
    "\n",
    "# Presentación de resultados en tabla\n",
    "import pandas as pd\n",
    "\n",
    "df = pd.DataFrame(resultados, columns=[\"Tamaño de Matriz\", \"Tiempo Recursivo (s)\", \"Tiempo Gauss (s)\"])\n",
    "print(df)"
   ]
  },
  {
   "cell_type": "code",
   "execution_count": null,
   "id": "20abe287-18e9-4fba-b426-68be07fdba7c",
   "metadata": {},
   "outputs": [],
   "source": [
    "# a) Implementación de la función para calcular el determinante mediante el método recursivo\n",
    "def determinante_recursivo(matrix):\n",
    "    if matrix.shape[0] != matrix.shape[1]:\n",
    "        raise ValueError(\"La matriz debe ser cuadrada.\")\n",
    "    \n",
    "    n = matrix.shape[0]\n",
    "    if n == 1:\n",
    "        return matrix[0, 0]\n",
    "    if n == 2:\n",
    "        return matrix[0, 0] * matrix[1, 1] - matrix[0, 1] * matrix[1, 0]\n",
    "    \n",
    "    det = 0\n",
    "    for i in range(n):\n",
    "        minor = np.delete(np.delete(matrix, 0, axis=0), i, axis=1)\n",
    "        det += ((-1) ** i) * matrix[0, i] * determinante_recursivo(minor)\n",
    "    return det\n"
   ]
  },
  {
   "cell_type": "markdown",
   "id": "dfe5a680-63b2-4687-aa5b-a19399a1bf4a",
   "metadata": {},
   "source": [
    "b) [0.5 puntos] Si A es una matriz cuadrada n×n y triangular (superior o inferior, es decir,\n",
    "con entradas nulas por debajo o por encima de la diagonal, respectivamente), ¿existe\n",
    "alguna forma de calcular de forma directa y sencilla su determinante? Justifíquese la\n",
    "respuesta."
   ]
  },
  {
   "cell_type": "code",
   "execution_count": null,
   "id": "7deee9b0-635a-42c1-ac44-a16e3e2fde82",
   "metadata": {},
   "outputs": [],
   "source": [
    "# b) Justificación para matrices triangulares\n",
    "\"\"\"\n",
    "El determinante de una matriz triangular (superior o inferior) es el producto de los elementos de la diagonal principal.\n",
    "Esto se debe a que todas las expansiones por cofactores fuera de la diagonal contienen al menos un término nulo.\n",
    "\"\"\"\n",
    "\n",
    "def determinante_triangular(matrix):\n",
    "    if matrix.shape[0] != matrix.shape[1]:\n",
    "        raise ValueError(\"La matriz debe ser cuadrada.\")\n",
    "    return np.prod(np.diag(matrix))"
   ]
  },
  {
   "cell_type": "markdown",
   "id": "9b33be90-9c62-41bb-bb59-e93ff8bd628c",
   "metadata": {},
   "source": [
    "c) [0.5 puntos] Determ´ınese de forma justificada c´omo alteran el determinante de una\n",
    "matriz n × n las dos operaciones elementales siguientes:\n",
    " - Intercambiar una fila (o columna) por otra fila (o columna).\n",
    " - Sumar a una fila (o columna) otra fila (o columna) multiplicada por un escalar α."
   ]
  },
  {
   "cell_type": "code",
   "execution_count": null,
   "id": "11f85fd3-898b-4822-a691-a443ff104e67",
   "metadata": {},
   "outputs": [],
   "source": [
    "# c) Efecto de las operaciones elementales sobre el determinante\n",
    "\"\"\"\n",
    "1. Intercambiar una fila o columna invierte el signo del determinante.\n",
    "2. Sumar a una fila otra fila multiplicada por un escalar no altera el determinante.\n",
    "\"\"\"\n"
   ]
  },
  {
   "cell_type": "markdown",
   "id": "ae83883b-f0ee-4aa8-b4e2-8f581c5c8d93",
   "metadata": {},
   "source": []
  }
 ],
 "metadata": {
  "kernelspec": {
   "display_name": "Python 3 (ipykernel)",
   "language": "python",
   "name": "python3"
  },
  "language_info": {
   "codemirror_mode": {
    "name": "ipython",
    "version": 3
   },
   "file_extension": ".py",
   "mimetype": "text/x-python",
   "name": "python",
   "nbconvert_exporter": "python",
   "pygments_lexer": "ipython3",
   "version": "3.12.7"
  }
 },
 "nbformat": 4,
 "nbformat_minor": 5
}
