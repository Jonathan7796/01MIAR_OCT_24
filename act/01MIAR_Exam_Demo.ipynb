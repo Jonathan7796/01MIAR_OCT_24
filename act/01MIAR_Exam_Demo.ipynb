{
 "cells": [
  {
   "cell_type": "markdown",
   "id": "cffbcd0e-dc00-4547-ac87-ef95eb5bbb51",
   "metadata": {},
   "source": [
    "# Examen Demo"
   ]
  },
  {
   "cell_type": "code",
   "execution_count": 3,
   "id": "8ef7d433-2f37-43b7-95ad-5c65b99f39b9",
   "metadata": {},
   "outputs": [],
   "source": [
    "# Your imports HERE !!!!\n",
    "import os\n",
    "import numpy as np\n",
    "import pandas as pd\n",
    "import matplotlib.pyplot as plt\n",
    "from functools import reduce"
   ]
  },
  {
   "cell_type": "markdown",
   "id": "0ddfb619-f1e8-4d7f-9bb5-b08686efabf2",
   "metadata": {
    "tags": []
   },
   "source": [
    "## 01\n",
    "- La serie de Fibonacci es una sucesión de números, en la cual cada número es la suma de los dos anteriores. Los dos primeros son siempre 0 y 1.\n",
    "  - $F_0 = 0$\n",
    "  - $F_1 = 1$\n",
    "  - $F_n = F_{n-1} + F_{n-2}$\n",
    "- Crear una serie de Fibonacci hasta un número *n* usando una función lambda."
   ]
  },
  {
   "cell_type": "code",
   "execution_count": 9,
   "id": "9f6f8961-e7d9-413e-91f5-ff8e9a35279a",
   "metadata": {},
   "outputs": [
    {
     "name": "stdout",
     "output_type": "stream",
     "text": [
      "[0, 1, 1, 2, 3, 5, 8, 13, 21, 34, 55, 89, 144, 233, 377, 610, 987, 1597]\n"
     ]
    }
   ],
   "source": [
    "expected_fibo_serie = [0,1,1,2,3,5,8,13,21,34,55,89,144,233,377,610,987,1597]\n",
    "fibo_serie = fibonacci_lambda(len(expected_fibo_serie))  # This calls your lambda function fibonacci_lambda\n",
    "print(fibo_serie)\n",
    "assert(expected_fibo_serie == fibo_serie)  # This will fail if the serie is not correct"
   ]
  },
  {
   "cell_type": "code",
   "execution_count": 7,
   "id": "7f9d090c-d087-4694-8249-3e89f5e866cb",
   "metadata": {},
   "outputs": [
    {
     "name": "stdout",
     "output_type": "stream",
     "text": [
      "[0, 1, 1, 2, 3, 5, 8, 13, 21, 34, 55, 89, 144, 233, 377, 610, 987, 1597]\n"
     ]
    }
   ],
   "source": [
    "# Your solution HERE !!!!\n",
    "\n",
    "fibonacci_lambda = lambda n: reduce(lambda fib, _: fib + [fib[-2] + fib[-1]], range(n-2), [0, 1])\n",
    "# Ejemplo de uso\n",
    "print(fibonacci_lambda(len(expected_fibo_serie)))\n"
   ]
  },
  {
   "cell_type": "markdown",
   "id": "3168850c-f9bb-4060-b6e3-06813ec86e54",
   "metadata": {},
   "source": [
    "## 02\n",
    "- Crear una función que reciba un array de NumPy y devuelva otro en el cual estén marcados como True los elementos duplicados (a partir de la segunda ocurrencia), y como False los no repetidos o las primeras ocurrencias de los duplicados."
   ]
  },
  {
   "cell_type": "code",
   "execution_count": 17,
   "id": "bcc96612-dff4-4779-b4df-2595aa235309",
   "metadata": {},
   "outputs": [],
   "source": [
    "numbers = np.array([4, 4, 4, 3, 8, 1, 9, 6, 1, 5, 9, 4, 0, 2])\n",
    "expected_output = np.array([False, True, True, False, False, False, False, False, True, False, True, True, False, False])\n",
    "output = find_duplicates(numbers)   # This calls your function find_duplicates\n",
    "assert(np.array_equal(expected_output, output))  # This will fail if the result is not as expected"
   ]
  },
  {
   "cell_type": "code",
   "execution_count": 15,
   "id": "76618e23-4928-4040-9f7f-f4b08ff4abb2",
   "metadata": {},
   "outputs": [],
   "source": [
    "# Your solution HERE !!!!\n",
    "def find_duplicates(arr):\n",
    "    # Crear un array booleano del mismo tamaño que arr, inicialmente todo en False\n",
    "    result = np.zeros_like(arr, dtype=bool)\n",
    "    # Diccionario para contar las ocurrencias de cada elemento\n",
    "    contador = {}\n",
    "    # Iterar sobre el array para marcar los duplicados\n",
    "    for i, valor in enumerate(arr):\n",
    "        if valor in contador:\n",
    "            contador[valor] += 1\n",
    "            # Si ya es la segunda o más ocurrencia, marcar como True\n",
    "            result[i] = True\n",
    "        else:\n",
    "            contador[valor] = 1  # Primera ocurrencia, no hacer nada (deja False)\n",
    "    \n",
    "    return result\n"
   ]
  },
  {
   "cell_type": "markdown",
   "id": "93e1a9cd-ee85-48b0-b5e5-3d37aeeddb6e",
   "metadata": {
    "tags": []
   },
   "source": [
    "## 03\n",
    "- Resolución de dos sistemas de ecuaciones\n",
    "    - $ A : \\begin{cases} -9x +  4y = 20 \\\\ -7y + 16x = 80                         \\end{cases}$\n",
    "    \n",
    "    - $ B : \\begin{cases} x - 2y + 3z = 7 \\\\ 2x + y + z = 4 \\\\ -3x + 2y -2z = -10 \\end{cases}$\n",
    "- Verifica por código los resultados"
   ]
  },
  {
   "cell_type": "code",
   "execution_count": 21,
   "id": "bbcc2811-859f-4023-bdbd-298750502ead",
   "metadata": {},
   "outputs": [
    {
     "name": "stdout",
     "output_type": "stream",
     "text": [
      "[-0.  5.]\n",
      "[ 2. -1.  1.]\n"
     ]
    }
   ],
   "source": [
    "# Your solution HERE !!!!\n",
    "##Sistema A\n",
    "a = np.array([[-9,4],[-7,16]])\n",
    "b = np.array([20,80])\n",
    "result = np.linalg.solve(a,b)\n",
    "print(result)\n",
    "\n",
    "##Sistema B}\n",
    "a = np.array([[1,-2,3],[2,1,1],[-3,2,-2]])\n",
    "b = np.array([7,4,-10])\n",
    "result = np.linalg.solve(a,b)\n",
    "print(result)"
   ]
  },
  {
   "cell_type": "markdown",
   "id": "655fe747-7f14-42dd-8a9a-6b532517bede",
   "metadata": {
    "tags": []
   },
   "source": [
    "## 04\n",
    "- Crear un objeto Series con 10 elementos, que contenga más de un tipo básico, con índices de tipo string\n",
    "- Demuestra que los datos con índices posicionales son los mismos que los obtenidos con índices semánticos, seleccionando a través de slicing, al menos 4 elementos de la serie anterior"
   ]
  },
  {
   "cell_type": "code",
   "execution_count": 23,
   "id": "ce7f3e5d-781e-49f5-9ab8-f8e6593ab327",
   "metadata": {},
   "outputs": [
    {
     "name": "stdout",
     "output_type": "stream",
     "text": [
      "a        10\n",
      "b       3.5\n",
      "c      hola\n",
      "d        15\n",
      "e     mundo\n",
      "f      20.2\n",
      "g         7\n",
      "h    pandas\n",
      "i        30\n",
      "j       2.5\n",
      "dtype: object\n"
     ]
    }
   ],
   "source": [
    "# Your solution HERE !!!!\n",
    "data = [10, 3.5, \"hola\", 15, \"mundo\", 20.2, 7, \"pandas\", 30, 2.5]\n",
    "index = [\"a\", \"b\", \"c\", \"d\", \"e\", \"f\", \"g\", \"h\", \"i\", \"j\"]\n",
    "serie = pd.Series(data, index=index)\n",
    "print(serie)\n",
    "#Indices semanticos\n",
    "subset_semantico = serie[[\"d\", \"e\", \"f\", \"g\"]]\n",
    "print(\"\\nSelección con índices semánticos:\")\n",
    "print(subset_semantico)\n",
    "#Indices posicionales\n",
    "subset_posicional = serie.iloc[3:7]\n",
    "print(\"\\nSelección con índices posicionales:\")\n",
    "print(subset_posicional)"
   ]
  },
  {
   "cell_type": "markdown",
   "id": "3f12a152-8257-491a-9b2f-270607831cc0",
   "metadata": {
    "tags": []
   },
   "source": [
    "## 05\n",
    "- Crear un DataFrame de dimensiones 10x10, con números aleatorios en el rango `[0,20]`\n",
    "- Reemplazar todos aquellos elementos menores de 5 por NaN\n",
    "- Averiguar cuantos elementos tienen Nan por fila"
   ]
  },
  {
   "cell_type": "code",
   "execution_count": 25,
   "id": "e6c62f70-14cb-446c-86eb-5428f36f627f",
   "metadata": {},
   "outputs": [
    {
     "name": "stdout",
     "output_type": "stream",
     "text": [
      "DataFrame con NaN:\n",
      "      0     1     2     3   4     5     6     7     8     9\n",
      "0   NaN   NaN   8.0  16.0  14   7.0  15.0   5.0  20.0   5.0\n",
      "1  15.0   NaN  17.0  11.0   6   NaN  11.0   NaN   NaN   NaN\n",
      "2  11.0  13.0   8.0  20.0  15   NaN   NaN   NaN  20.0   7.0\n",
      "3   5.0   NaN  16.0   NaN   6  17.0  16.0  12.0   NaN  20.0\n",
      "4  11.0  12.0  17.0  18.0  14  14.0  19.0  12.0   NaN  19.0\n",
      "5  16.0  15.0  19.0  17.0  20   NaN  13.0  17.0   NaN  10.0\n",
      "6  15.0   NaN  20.0   NaN  13  11.0   9.0  14.0  19.0   NaN\n",
      "7  20.0   9.0  15.0  19.0  10  14.0   5.0   8.0  11.0  14.0\n",
      "8  18.0  10.0   NaN  13.0  18  18.0   7.0  15.0   6.0  19.0\n",
      "9  14.0  15.0  19.0   8.0  12  15.0  17.0   6.0  19.0   NaN\n",
      "\n",
      "Número de NaN por fila:\n",
      "0    2\n",
      "1    5\n",
      "2    3\n",
      "3    3\n",
      "4    1\n",
      "5    2\n",
      "6    3\n",
      "7    0\n",
      "8    1\n",
      "9    1\n",
      "dtype: int64\n"
     ]
    }
   ],
   "source": [
    "# Your solution HERE !!!!\n",
    "# Paso 1: Crear el DataFrame de 10x10 con números aleatorios en el rango [0, 20]\n",
    "df = pd.DataFrame(np.random.randint(0, 21, size=(10, 10)))\n",
    "# Paso 2: Reemplazar los valores menores de 5 por NaN\n",
    "df[df < 5] = np.nan\n",
    "# Mostrar el DataFrame resultante\n",
    "print(\"DataFrame con NaN:\")\n",
    "print(df)\n",
    "# Paso 3: Contar cuántos NaN hay por fila\n",
    "nan_por_fila = df.isna().sum(axis=1)\n",
    "# Mostrar el resultado\n",
    "print(\"\\nNúmero de NaN por fila:\")\n",
    "print(nan_por_fila)"
   ]
  },
  {
   "cell_type": "markdown",
   "id": "8ba8d87a-190e-48ab-9235-04d875ef994e",
   "metadata": {
    "tags": []
   },
   "source": [
    "## 06\n",
    "- Dada una lista de elementos, crea una función que devuelva un dataframe sin los elementos duplicados"
   ]
  },
  {
   "cell_type": "code",
   "execution_count": 35,
   "id": "18d7bb34-b613-497e-b59b-aca2ec09863d",
   "metadata": {},
   "outputs": [
    {
     "name": "stdout",
     "output_type": "stream",
     "text": [
      "   0\n",
      "0  a\n",
      "1  b\n",
      "2  c\n",
      "3  g\n",
      "   0\n",
      "0  a\n",
      "1  b\n",
      "2  c\n",
      "3  g\n"
     ]
    }
   ],
   "source": [
    "serie = ['a','b','c','a','c','a','g']\n",
    "expected_output = pd.DataFrame(['a','b','c','g'])\n",
    "print(expected_output)\n",
    "output = remove_duplicates(serie)   # This will call tour function remove_duplicates\n",
    "print(output)\n",
    "assert(expected_output.equals(output))  # This will fail if the result is not as expected"
   ]
  },
  {
   "cell_type": "code",
   "execution_count": 33,
   "id": "ee636cf0-9bff-497e-b4d9-ab42ac4b166a",
   "metadata": {},
   "outputs": [],
   "source": [
    "# Your solution HERE !!!!\n",
    "def remove_duplicates(lista):\n",
    "    # Convertir la lista a un DataFrame\n",
    "    df = pd.DataFrame(lista)\n",
    "\n",
    "    # Eliminar los duplicados\n",
    "    df_sin_duplicados = df.drop_duplicates().reset_index(drop=True)\n",
    "\n",
    "    return df_sin_duplicados\n",
    "    "
   ]
  },
  {
   "cell_type": "markdown",
   "id": "211cff7b-d71d-4db8-bd16-71f09ca57399",
   "metadata": {},
   "source": [
    "## 07 - 1pt\n",
    "- Escribir un generador `frange` que simule el comportamiento de la función `arange` de NumPy\n",
    "- Esta función cada vez que se invoque debe devolver valores espaciados uniformemente a partir de un valor inicial. Se debe proveer a dicha función un valor inicial para la secuencia de números y un valor para el step\n",
    "- Debe soportar valores númericos en coma flotante\n",
    "- La función potencialmente se puede llamar un número infinito de veces\n",
    "- Usando plain Python, sin ninguna librería"
   ]
  },
  {
   "cell_type": "code",
   "execution_count": 39,
   "id": "19be50b6-7a52-4dd1-a081-2e483cb3bbf8",
   "metadata": {},
   "outputs": [
    {
     "name": "stdout",
     "output_type": "stream",
     "text": [
      "[10.6, 11.4, 12.200000000000001, 13.000000000000002, 13.800000000000002, 14.600000000000003, 15.400000000000004, 16.200000000000003, 17.000000000000004, 17.800000000000004]\n"
     ]
    }
   ],
   "source": [
    "import math\n",
    "\n",
    "init = 10.6\n",
    "step = 0.8\n",
    "g = frange(init, step)  # This calls your function frange\n",
    "\n",
    "iters = 10\n",
    "numbers = [next(g) for n in range(iters)]\n",
    "for i, n in enumerate(numbers):\n",
    "    assert(math.isclose(n, init + (step * i)))  # This will fail if the range is not properly created\\\n",
    "print(numbers)"
   ]
  },
  {
   "cell_type": "code",
   "execution_count": 37,
   "id": "9d395c62-a894-48ce-990b-cf60d34ec065",
   "metadata": {},
   "outputs": [],
   "source": [
    "# Your solution HERE !!!!\n",
    "def frange(start, step):\n",
    "    current = start\n",
    "    while True:\n",
    "        yield current\n",
    "        current += step\n"
   ]
  },
  {
   "cell_type": "markdown",
   "id": "ae093f1d-b4e5-4ac3-a0a8-c6aecb8a084d",
   "metadata": {
    "tags": []
   },
   "source": [
    "## 08\n",
    "- Crear una función que reciba una Serie de Pandas y devuelva esa misma serie, reemplazando los espacios en blanco por el carácter menos frecuente en dicha serie."
   ]
  },
  {
   "cell_type": "code",
   "execution_count": 53,
   "id": "02390a36-6e74-4e34-b46a-e1612771863e",
   "metadata": {},
   "outputs": [],
   "source": [
    "serie = pd.Series(list('bba cabc faabba aacbbfe'))\n",
    "expected_output = pd.Series(list('bbaecabcefaabbaeaacbbfe'))\n",
    "output = clean_whitespace_replace(serie)  # This calls your function clean_whitespace_replace\n",
    "assert(expected_output.equals(output))  # This will fail if result is not as expected"
   ]
  },
  {
   "cell_type": "code",
   "execution_count": 41,
   "id": "0472c9a4-ce23-42e2-9090-ee4695d6057a",
   "metadata": {},
   "outputs": [],
   "source": [
    "# Your solution HERE !!!!\n",
    "def clean_whitespace_replace(serie):\n",
    "    # Contar la frecuencia de los valores en la serie\n",
    "    frecuencias = serie.value_counts()\n",
    "    print(frecuencias)\n",
    "    # Encontrar el carácter menos frecuente (excluyendo el espacio en blanco si existe)\n",
    "    menos_frecuente = frecuencias.idxmin()\n",
    "    # Reemplazar los espacios en blanco por el carácter menos frecuente\n",
    "    serie_modificada = serie.replace(\" \", menos_frecuente)\n",
    "\n",
    "    return serie_modificada"
   ]
  },
  {
   "cell_type": "code",
   "execution_count": null,
   "id": "cf2d1c00-9dfe-4fa6-9a35-f29a1cc416cc",
   "metadata": {},
   "outputs": [],
   "source": []
  }
 ],
 "metadata": {
  "kernelspec": {
   "display_name": "Python 3 (ipykernel)",
   "language": "python",
   "name": "python3"
  },
  "language_info": {
   "codemirror_mode": {
    "name": "ipython",
    "version": 3
   },
   "file_extension": ".py",
   "mimetype": "text/x-python",
   "name": "python",
   "nbconvert_exporter": "python",
   "pygments_lexer": "ipython3",
   "version": "3.12.7"
  }
 },
 "nbformat": 4,
 "nbformat_minor": 5
}
