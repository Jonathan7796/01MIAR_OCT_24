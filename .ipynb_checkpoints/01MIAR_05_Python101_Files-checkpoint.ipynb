{
 "cells": [
  {
   "cell_type": "markdown",
   "id": "64a35764-acdd-4305-89f8-18fc2098a1ef",
   "metadata": {},
   "source": [
    "<img src=\"img/viu_logo.png\" width=\"200\">\n",
    "\n",
    "## 01MIAR - Ficheros\n",
    "\n",
    "![logo](img/python_logo.png)\n",
    "\n",
    "*Ivan Fuertes / Andrés Pérez*"
   ]
  },
  {
   "cell_type": "markdown",
   "id": "19c7f39d-ba33-4509-b741-70ea8dab6da9",
   "metadata": {},
   "source": [
    "# Acceso a ficheros"
   ]
  },
  {
   "cell_type": "markdown",
   "id": "993158b7-0178-469f-a9a6-cdee6fdd27d3",
   "metadata": {},
   "source": [
    "## Ficheros"
   ]
  },
  {
   "cell_type": "markdown",
   "id": "a973d1ed-b618-411a-9df3-bbae0a6327f0",
   "metadata": {},
   "source": [
    "* *File* es un tipo de objeto predefinido en Python (*built-in*).\n",
    "* Permite acceder a ficheros desde programas Python.\n",
    "* Los ficheros son de un tipo especial:\n",
    "    * Son *built-in*, pero no son ni *números*, ni *secuencias*, ni *mappings*. Tampoco responden a operadores en expresiones.\n",
    "* La función *open* permite crear objetos de tipo fichero."
   ]
  },
  {
   "cell_type": "markdown",
   "id": "64ad3e23-5a68-486c-a6af-35eeb8fa98c8",
   "metadata": {},
   "source": [
    "Formato general para abrir un fichero:\n",
    "\n",
    "```\n",
    "afile = open(filename, mode)\n",
    "```\n",
    "\n",
    "* *mode* es opcional. Por defecto, los ficheros se abren en modo lectura.\n",
    "* Los datos leidos de un fichero siempre se obtienen en formato *string*. Lo mismo ocurre con escritura.\n",
    "* Los ficheros se deben cerrar invocando *close* (liberación de recursos)."
   ]
  },
  {
   "cell_type": "code",
   "execution_count": 3,
   "id": "1851523c-9fd6-4354-a257-cd23e8aac7f2",
   "metadata": {},
   "outputs": [
    {
     "name": "stdout",
     "output_type": "stream",
     "text": [
      "Hola mundo desde un fichero.\n"
     ]
    }
   ],
   "source": [
    "# Lectura desde fichero usando método 'read'. Devuelve todo el contenido del fichero.\n",
    "mi_fichero = open('res/one_line.txt')\n",
    "print(mi_fichero.read())\n",
    "mi_fichero.close()"
   ]
  },
  {
   "cell_type": "code",
   "execution_count": 5,
   "id": "3e3ea4ea-3465-44d6-8254-937e7754c6be",
   "metadata": {},
   "outputs": [
    {
     "name": "stdout",
     "output_type": "stream",
     "text": [
      "Este fichero\n",
      "contiene tres\n",
      "lineas de texto.\n"
     ]
    }
   ],
   "source": [
    "# Lectura linea a linea a través del bucle 'for'.\n",
    "mi_fichero = open('res/multiple_lines.txt')\n",
    "for linea in mi_fichero:\n",
    "    print(linea, end= '')\n",
    "mi_fichero.close()"
   ]
  },
  {
   "cell_type": "code",
   "execution_count": 7,
   "id": "9654cbbc-7ee8-4448-8ba0-d3f84971d863",
   "metadata": {},
   "outputs": [
    {
     "name": "stdout",
     "output_type": "stream",
     "text": [
      "['Este fichero\\n', 'contiene tres\\n', 'lineas de texto.\\n']\n"
     ]
    }
   ],
   "source": [
    "# leer de un archivo a una lista.\n",
    "mi_fichero = open('res/multiple_lines.txt')\n",
    "lineas = mi_fichero.readlines()\n",
    "mi_fichero.close()\n",
    "\n",
    "print(lineas)"
   ]
  },
  {
   "cell_type": "markdown",
   "id": "1ecdc36b-2af3-4cf7-a404-6111af6f72c2",
   "metadata": {},
   "source": [
    "- Resolución de paths independiente de plataforma"
   ]
  },
  {
   "cell_type": "code",
   "execution_count": 9,
   "id": "cf7452a5-3a09-41de-9df1-65b0e5c8ce03",
   "metadata": {},
   "outputs": [
    {
     "name": "stdout",
     "output_type": "stream",
     "text": [
      "res\\multiple_lines.txt\n"
     ]
    }
   ],
   "source": [
    "import os\n",
    "ruta = os.path.join(\"res\", \"multiple_lines.txt\")\n",
    "print(ruta)"
   ]
  },
  {
   "cell_type": "code",
   "execution_count": 13,
   "id": "34ee10e4-fee1-4c7a-a44e-b551bdd72a56",
   "metadata": {},
   "outputs": [
    {
     "name": "stdout",
     "output_type": "stream",
     "text": [
      "res\\multiple_lines.txt\n"
     ]
    }
   ],
   "source": [
    "path = [\"res\", \"multiple_lines.txt\"]\n",
    "ruta = os.path.join(*path)\n",
    "print(ruta)"
   ]
  },
  {
   "cell_type": "markdown",
   "id": "631c1035-60d0-41a1-8c86-62f71aa0464d",
   "metadata": {},
   "source": [
    "* *close* autómatico con sentencia *with.* Esta es la forma habitual de leer de fichero en Python, context manager"
   ]
  },
  {
   "cell_type": "code",
   "execution_count": 11,
   "id": "c9601a35-df69-4344-ba27-4fa9bf009d73",
   "metadata": {},
   "outputs": [
    {
     "name": "stdout",
     "output_type": "stream",
     "text": [
      "Este fichero\n",
      "contiene tres\n",
      "lineas de texto.\n"
     ]
    }
   ],
   "source": [
    "with open(ruta) as mi_fichero:\n",
    "    for linea in mi_fichero:\n",
    "        print(linea, end= '')"
   ]
  },
  {
   "cell_type": "markdown",
   "id": "818d2597-10a8-4bca-a260-9060da7c76bb",
   "metadata": {},
   "source": [
    "* Se puede abrir varios ficheros en un mismo *with*."
   ]
  },
  {
   "cell_type": "code",
   "execution_count": 15,
   "id": "45874f5a-20e7-4dbc-a86f-92ddc0624a48",
   "metadata": {},
   "outputs": [
    {
     "name": "stdout",
     "output_type": "stream",
     "text": [
      "['Hola mundo desde un fichero.']\n",
      "['Este fichero\\n', 'contiene tres\\n', 'lineas de texto.\\n']\n"
     ]
    }
   ],
   "source": [
    "#abrir varios ficheros en el mismo with\n",
    "ruta1 = os.path.join(\"res\", \"one_line.txt\")\n",
    "ruta2 = os.path.join(\"res\", \"multiple_lines.txt\")\n",
    "with open(ruta1) as fichero1, open(ruta2) as fichero2:\n",
    "    print(fichero1.readlines())\n",
    "    print(fichero2.readlines())"
   ]
  },
  {
   "cell_type": "markdown",
   "id": "5da52919-f9e1-4b0d-aa04-0c33df20129b",
   "metadata": {},
   "source": [
    "## Modos de acceso"
   ]
  },
  {
   "cell_type": "markdown",
   "id": "2c240e7b-21cd-496b-a48d-48a583e1c311",
   "metadata": {},
   "source": [
    "* Al crear un objeto de tipo *File* se puede espeficiar el modo de acceso (lectura/escritura).\n",
    "\n",
    "| Modo Acceso | Descripción |\n",
    "|:---------|:-----|\n",
    "| r | Solo Lectura |\n",
    "| w | Solo Escritura (Borra si el archivo ya existe) |\n",
    "| x | Solo Escritura (Falla si el archivo ya existe) |\n",
    "| a | Crea Fichero (Si existe lo abre y se añade al final) |\n",
    "| r+ | Lectura y Escritura |\n",
    "| b | Se puede añadir a otros modos para acceso binario\n",
    "| t | Acceso para archivos de texto (default) |"
   ]
  },
  {
   "cell_type": "markdown",
   "id": "68bc84d8-92d1-4b89-b0e2-b64ea09e0586",
   "metadata": {},
   "source": [
    "## Acceso para escritura"
   ]
  },
  {
   "cell_type": "code",
   "execution_count": 19,
   "id": "f2bf8a24-ac3f-443d-b3fc-c6b2a7f2a3ac",
   "metadata": {},
   "outputs": [],
   "source": [
    "def crear_lista(tamanyo):\n",
    "    lista = []\n",
    "    for i in range(tamanyo):\n",
    "        lista.append(str(i) + '\\n')\n",
    "    return lista\n",
    "\n",
    "ruta = os.path.join(\"res\", \"o_dummy.txt\")\n",
    "with open(ruta, 'wt') as fichero:\n",
    "    fichero.write('Cabecera\\n')\n",
    "    lista = crear_lista(10)\n",
    "    fichero.writelines(lista)"
   ]
  },
  {
   "cell_type": "markdown",
   "id": "899e3a5d-f4ec-4ba7-b439-1f587a0ff542",
   "metadata": {},
   "source": [
    "#### Buffering"
   ]
  },
  {
   "cell_type": "markdown",
   "id": "ebb46d3f-d85c-4e02-8e4b-8584a3f4041b",
   "metadata": {},
   "source": [
    "* Por defecto, el texto que transfieres desde tu programa a un fichero no se guarda en disco inmediatamente. Se almacena en un buffer.\n",
    "* Acciones como cerrar un fichero o invocar el método **flush** fuerzan que se transfiera el contenido del buffer a disco."
   ]
  },
  {
   "cell_type": "code",
   "execution_count": 21,
   "id": "0989d125-365f-44a2-8be6-e7311dacea2b",
   "metadata": {},
   "outputs": [
    {
     "name": "stdout",
     "output_type": "stream",
     "text": [
      "[]\n",
      "['foo']\n"
     ]
    }
   ],
   "source": [
    "ruta = os.path.join(\"res\", \"FicheroParaEscritura.txt\")\n",
    "fichero_write = open(ruta, 'w')\n",
    "fichero_write.write('foo')\n",
    "\n",
    "fichero_read = open(ruta, \"r\")\n",
    "print(fichero_read.readlines())\n",
    "\n",
    "fichero_write.flush()\n",
    "\n",
    "print(fichero_read.readlines())\n",
    "\n",
    "fichero_write.close()\n",
    "fichero_read.close()"
   ]
  },
  {
   "cell_type": "markdown",
   "id": "a440cdad-4a8a-4dc3-977f-ac358817ac35",
   "metadata": {},
   "source": [
    "## Archivos CSV"
   ]
  },
  {
   "cell_type": "markdown",
   "id": "db4aa09f-2046-4915-b075-bbb4506ec11e",
   "metadata": {
    "tags": []
   },
   "source": [
    "* Python permite leer datos de ficheros CSV y también escribir ficheros en este formato.\n",
    "* Popular formato en ciencia de datos."
   ]
  },
  {
   "cell_type": "code",
   "execution_count": 23,
   "id": "7272687a-ef89-4628-b6c5-d9607fb1b2d1",
   "metadata": {},
   "outputs": [
    {
     "name": "stdout",
     "output_type": "stream",
     "text": [
      "Operacion  ----  Descripcion\n",
      "a + b  ----  suma a y b\n",
      "a - b  ----  resta a menos b\n",
      "a / b  ----  a dividido\n",
      "a // b  ----  a dividido entre b (quitando decimales)\n",
      "a % b  ----  devuelve el resto de la divisiÃ³n a/b (modulus)\n",
      "a * b  ----  a multiplicado por b\n",
      "a ** b  ----  a elevado a b\n"
     ]
    }
   ],
   "source": [
    "# tabla_operaciones.csv contiene valores separados por comas\n",
    "import csv\n",
    "ruta = os.path.join(\"res\", \"tabla_operaciones.csv\")\n",
    "\n",
    "with open(ruta) as fichero:\n",
    "    data_reader = csv.reader(fichero, delimiter=',')\n",
    "    for linea in data_reader:\n",
    "        print(linea[0] + '  ----  ' + linea[1])"
   ]
  },
  {
   "cell_type": "code",
   "execution_count": 25,
   "id": "59434ab7-ef76-46ec-95c1-8552f7ecac16",
   "metadata": {},
   "outputs": [
    {
     "name": "stdout",
     "output_type": "stream",
     "text": [
      "['Operacion', 'Descripcion']\n",
      "['a + b', 'suma a y b']\n",
      "['a - b', 'resta a menos b']\n",
      "['a / b', 'a dividido']\n",
      "['a // b', 'a dividido entre b (quitando decimales)']\n",
      "['a % b', 'devuelve el resto de la divisiÃ³n a/b (modulus)']\n",
      "['a * b', 'a multiplicado por b']\n",
      "['a ** b', 'a elevado a b']\n"
     ]
    }
   ],
   "source": [
    "ruta = os.path.join(\"res\", \"tabla_operaciones.csv\")\n",
    "f = open(ruta)\n",
    "data_reader = csv.reader(f, delimiter = ',')\n",
    "\n",
    "ruta_o = os.path.join(\"res\", \"o_tabla_operaciones.csv\")\n",
    "with open(ruta_o, 'w') as f2:\n",
    "    csv_writer = csv.writer(f2, delimiter = '|')\n",
    "    for line in data_reader:\n",
    "        print(line)\n",
    "        csv_writer.writerow(line)\n",
    "        \n",
    "f.close()"
   ]
  },
  {
   "cell_type": "markdown",
   "id": "a2097f2f-627c-45b6-8fe6-0cb86790a988",
   "metadata": {},
   "source": [
    "# Docstrings"
   ]
  },
  {
   "cell_type": "markdown",
   "id": "8e891d46-6144-4742-b599-d3a303544533",
   "metadata": {},
   "source": [
    "* Python permite adjuntar documentación a los objetos e inspeccionarla a través de la línea de comandos o durante la ejecución del programa.\n",
    "* Los docstrings se almacenan en el atributo *\\_\\_doc\\_\\_* de cada objeto.\n",
    "* El valor de dicho atributo se puede mostrar por medio de la función *help*."
   ]
  },
  {
   "cell_type": "code",
   "execution_count": null,
   "id": "b245f99a-5a4c-45cf-8209-6f3d66c617c5",
   "metadata": {},
   "outputs": [],
   "source": [
    "help(open)"
   ]
  },
  {
   "cell_type": "markdown",
   "id": "12066f71-3ad4-454d-8482-b0f4c659f369",
   "metadata": {},
   "source": [
    "* No es necesario editar este atributo directamente.\n",
    "* Para asociar un docstring a un objeto basta con escribir el texto (entre triples comillas) al principio de los modulos, funciones o clases, antes del codigo ejecutable."
   ]
  },
  {
   "cell_type": "code",
   "execution_count": 27,
   "id": "545e588e-e64e-42f6-9446-101dbc5ca709",
   "metadata": {},
   "outputs": [
    {
     "name": "stdout",
     "output_type": "stream",
     "text": [
      "Help on function funcion_de_prueba in module __main__:\n",
      "\n",
      "funcion_de_prueba()\n",
      "    Esta es la documentación de la función de prueba\n",
      "\n"
     ]
    }
   ],
   "source": [
    "def funcion_de_prueba():\n",
    "    \"\"\"Esta es la documentación de la función de prueba\"\"\"\n",
    "    pass\n",
    "\n",
    "help(funcion_de_prueba)"
   ]
  },
  {
   "cell_type": "markdown",
   "id": "8893426e-51a1-4559-9f0d-bff3f152fa3c",
   "metadata": {},
   "source": [
    "* Accediendo al atributo *\\_\\_doc\\_\\_* sólo se obtiene el docstring."
   ]
  },
  {
   "cell_type": "code",
   "execution_count": 29,
   "id": "2743e60a-d531-478f-a1c4-c2ef8b7e57be",
   "metadata": {},
   "outputs": [
    {
     "name": "stdout",
     "output_type": "stream",
     "text": [
      "Esta es la documentación de la función de prueba\n"
     ]
    }
   ],
   "source": [
    "print(funcion_de_prueba.__doc__)"
   ]
  },
  {
   "cell_type": "markdown",
   "id": "7ae0885c-63db-4058-bddb-7dbf40f66576",
   "metadata": {},
   "source": [
    "Como se puede observar, *help* añade información adicional. Por ejemplo, para entidades más grandes, *help* muestra el docstring dividido en secciones."
   ]
  },
  {
   "cell_type": "code",
   "execution_count": 31,
   "id": "977dbe7a-8834-4ae9-84dc-901385af1599",
   "metadata": {},
   "outputs": [
    {
     "name": "stdout",
     "output_type": "stream",
     "text": [
      "Help on built-in module sys:\n",
      "\n",
      "NAME\n",
      "    sys\n",
      "\n",
      "MODULE REFERENCE\n",
      "    https://docs.python.org/3.11/library/sys.html\n",
      "    \n",
      "    The following documentation is automatically generated from the Python\n",
      "    source files.  It may be incomplete, incorrect or include features that\n",
      "    are considered implementation detail and may vary between Python\n",
      "    implementations.  When in doubt, consult the module reference at the\n",
      "    location listed above.\n",
      "\n",
      "DESCRIPTION\n",
      "    This module provides access to some objects used or maintained by the\n",
      "    interpreter and to functions that interact strongly with the interpreter.\n",
      "    \n",
      "    Dynamic objects:\n",
      "    \n",
      "    argv -- command line arguments; argv[0] is the script pathname if known\n",
      "    path -- module search path; path[0] is the script directory, else ''\n",
      "    modules -- dictionary of loaded modules\n",
      "    \n",
      "    displayhook -- called to show results in an interactive session\n",
      "    excepthook -- called to handle any uncaught exception other than SystemExit\n",
      "      To customize printing in an interactive session or to install a custom\n",
      "      top-level exception handler, assign other functions to replace these.\n",
      "    \n",
      "    stdin -- standard input file object; used by input()\n",
      "    stdout -- standard output file object; used by print()\n",
      "    stderr -- standard error object; used for error messages\n",
      "      By assigning other file objects (or objects that behave like files)\n",
      "      to these, it is possible to redirect all of the interpreter's I/O.\n",
      "    \n",
      "    last_type -- type of last uncaught exception\n",
      "    last_value -- value of last uncaught exception\n",
      "    last_traceback -- traceback of last uncaught exception\n",
      "      These three are only available in an interactive session after a\n",
      "      traceback has been printed.\n",
      "    \n",
      "    Static objects:\n",
      "    \n",
      "    builtin_module_names -- tuple of module names built into this interpreter\n",
      "    copyright -- copyright notice pertaining to this interpreter\n",
      "    exec_prefix -- prefix used to find the machine-specific Python library\n",
      "    executable -- absolute path of the executable binary of the Python interpreter\n",
      "    float_info -- a named tuple with information about the float implementation.\n",
      "    float_repr_style -- string indicating the style of repr() output for floats\n",
      "    hash_info -- a named tuple with information about the hash algorithm.\n",
      "    hexversion -- version information encoded as a single integer\n",
      "    implementation -- Python implementation information.\n",
      "    int_info -- a named tuple with information about the int implementation.\n",
      "    maxsize -- the largest supported length of containers.\n",
      "    maxunicode -- the value of the largest Unicode code point\n",
      "    platform -- platform identifier\n",
      "    prefix -- prefix used to find the Python library\n",
      "    thread_info -- a named tuple with information about the thread implementation.\n",
      "    version -- the version of this interpreter as a string\n",
      "    version_info -- version information as a named tuple\n",
      "    dllhandle -- [Windows only] integer handle of the Python DLL\n",
      "    winver -- [Windows only] version number of the Python DLL\n",
      "    _enablelegacywindowsfsencoding -- [Windows only]\n",
      "    __stdin__ -- the original stdin; don't touch!\n",
      "    __stdout__ -- the original stdout; don't touch!\n",
      "    __stderr__ -- the original stderr; don't touch!\n",
      "    __displayhook__ -- the original displayhook; don't touch!\n",
      "    __excepthook__ -- the original excepthook; don't touch!\n",
      "    \n",
      "    Functions:\n",
      "    \n",
      "    displayhook() -- print an object to the screen, and save it in builtins._\n",
      "    excepthook() -- print an exception and its traceback to sys.stderr\n",
      "    exception() -- return the current thread's active exception\n",
      "    exc_info() -- return information about the current thread's active exception\n",
      "    exit() -- exit the interpreter by raising SystemExit\n",
      "    getdlopenflags() -- returns flags to be used for dlopen() calls\n",
      "    getprofile() -- get the global profiling function\n",
      "    getrefcount() -- return the reference count for an object (plus one :-)\n",
      "    getrecursionlimit() -- return the max recursion depth for the interpreter\n",
      "    getsizeof() -- return the size of an object in bytes\n",
      "    gettrace() -- get the global debug tracing function\n",
      "    setdlopenflags() -- set the flags to be used for dlopen() calls\n",
      "    setprofile() -- set the global profiling function\n",
      "    setrecursionlimit() -- set the max recursion depth for the interpreter\n",
      "    settrace() -- set the global debug tracing function\n",
      "\n",
      "FUNCTIONS\n",
      "    __breakpointhook__ = breakpointhook(...)\n",
      "        breakpointhook(*args, **kws)\n",
      "        \n",
      "        This hook function is called by built-in breakpoint().\n",
      "    \n",
      "    __displayhook__ = displayhook(object, /)\n",
      "        Print an object to sys.stdout and also save it in builtins._\n",
      "    \n",
      "    __excepthook__ = excepthook(exctype, value, traceback, /)\n",
      "        Handle an exception by displaying it with a traceback on sys.stderr.\n",
      "    \n",
      "    __unraisablehook__ = unraisablehook(unraisable, /)\n",
      "        Handle an unraisable exception.\n",
      "        \n",
      "        The unraisable argument has the following attributes:\n",
      "        \n",
      "        * exc_type: Exception type.\n",
      "        * exc_value: Exception value, can be None.\n",
      "        * exc_traceback: Exception traceback, can be None.\n",
      "        * err_msg: Error message, can be None.\n",
      "        * object: Object causing the exception, can be None.\n",
      "    \n",
      "    addaudithook(hook)\n",
      "        Adds a new audit hook callback.\n",
      "    \n",
      "    audit(...)\n",
      "        audit(event, *args)\n",
      "        \n",
      "        Passes the event to any audit hooks that are attached.\n",
      "    \n",
      "    call_tracing(func, args, /)\n",
      "        Call func(*args), while tracing is enabled.\n",
      "        \n",
      "        The tracing state is saved, and restored afterwards.  This is intended\n",
      "        to be called from a debugger from a checkpoint, to recursively debug\n",
      "        some other code.\n",
      "    \n",
      "    exc_info()\n",
      "        Return current exception information: (type, value, traceback).\n",
      "        \n",
      "        Return information about the most recent exception caught by an except\n",
      "        clause in the current stack frame or in an older stack frame.\n",
      "    \n",
      "    exception()\n",
      "        Return the current exception.\n",
      "        \n",
      "        Return the most recent exception caught by an except clause\n",
      "        in the current stack frame or in an older stack frame, or None\n",
      "        if no such exception exists.\n",
      "    \n",
      "    exit(status=None, /)\n",
      "        Exit the interpreter by raising SystemExit(status).\n",
      "        \n",
      "        If the status is omitted or None, it defaults to zero (i.e., success).\n",
      "        If the status is an integer, it will be used as the system exit status.\n",
      "        If it is another kind of object, it will be printed and the system\n",
      "        exit status will be one (i.e., failure).\n",
      "    \n",
      "    get_asyncgen_hooks()\n",
      "        Return the installed asynchronous generators hooks.\n",
      "        \n",
      "        This returns a namedtuple of the form (firstiter, finalizer).\n",
      "    \n",
      "    get_coroutine_origin_tracking_depth()\n",
      "        Check status of origin tracking for coroutine objects in this thread.\n",
      "    \n",
      "    get_int_max_str_digits()\n",
      "        Return the maximum string digits limit for non-binary int<->str conversions.\n",
      "    \n",
      "    getallocatedblocks()\n",
      "        Return the number of memory blocks currently allocated.\n",
      "    \n",
      "    getdefaultencoding()\n",
      "        Return the current default encoding used by the Unicode implementation.\n",
      "    \n",
      "    getfilesystemencodeerrors()\n",
      "        Return the error mode used Unicode to OS filename conversion.\n",
      "    \n",
      "    getfilesystemencoding()\n",
      "        Return the encoding used to convert Unicode filenames to OS filenames.\n",
      "    \n",
      "    getprofile()\n",
      "        Return the profiling function set with sys.setprofile.\n",
      "        \n",
      "        See the profiler chapter in the library manual.\n",
      "    \n",
      "    getrecursionlimit()\n",
      "        Return the current value of the recursion limit.\n",
      "        \n",
      "        The recursion limit is the maximum depth of the Python interpreter\n",
      "        stack.  This limit prevents infinite recursion from causing an overflow\n",
      "        of the C stack and crashing Python.\n",
      "    \n",
      "    getrefcount(object, /)\n",
      "        Return the reference count of object.\n",
      "        \n",
      "        The count returned is generally one higher than you might expect,\n",
      "        because it includes the (temporary) reference as an argument to\n",
      "        getrefcount().\n",
      "    \n",
      "    getsizeof(...)\n",
      "        getsizeof(object [, default]) -> int\n",
      "        \n",
      "        Return the size of object in bytes.\n",
      "    \n",
      "    getswitchinterval()\n",
      "        Return the current thread switch interval; see sys.setswitchinterval().\n",
      "    \n",
      "    gettrace()\n",
      "        Return the global debug tracing function set with sys.settrace.\n",
      "        \n",
      "        See the debugger chapter in the library manual.\n",
      "    \n",
      "    getwindowsversion()\n",
      "        Return info about the running version of Windows as a named tuple.\n",
      "        \n",
      "        The members are named: major, minor, build, platform, service_pack,\n",
      "        service_pack_major, service_pack_minor, suite_mask, product_type and\n",
      "        platform_version. For backward compatibility, only the first 5 items\n",
      "        are available by indexing. All elements are numbers, except\n",
      "        service_pack and platform_type which are strings, and platform_version\n",
      "        which is a 3-tuple. Platform is always 2. Product_type may be 1 for a\n",
      "        workstation, 2 for a domain controller, 3 for a server.\n",
      "        Platform_version is a 3-tuple containing a version number that is\n",
      "        intended for identifying the OS rather than feature detection.\n",
      "    \n",
      "    intern(string, /)\n",
      "        ``Intern'' the given string.\n",
      "        \n",
      "        This enters the string in the (global) table of interned strings whose\n",
      "        purpose is to speed up dictionary lookups. Return the string itself or\n",
      "        the previously interned string object with the same value.\n",
      "    \n",
      "    is_finalizing()\n",
      "        Return True if Python is exiting.\n",
      "    \n",
      "    set_asyncgen_hooks(...)\n",
      "        set_asyncgen_hooks(* [, firstiter] [, finalizer])\n",
      "        \n",
      "        Set a finalizer for async generators objects.\n",
      "    \n",
      "    set_coroutine_origin_tracking_depth(depth)\n",
      "        Enable or disable origin tracking for coroutine objects in this thread.\n",
      "        \n",
      "        Coroutine objects will track 'depth' frames of traceback information\n",
      "        about where they came from, available in their cr_origin attribute.\n",
      "        \n",
      "        Set a depth of 0 to disable.\n",
      "    \n",
      "    set_int_max_str_digits(maxdigits)\n",
      "        Set the maximum string digits limit for non-binary int<->str conversions.\n",
      "    \n",
      "    setprofile(...)\n",
      "        setprofile(function)\n",
      "        \n",
      "        Set the profiling function.  It will be called on each function call\n",
      "        and return.  See the profiler chapter in the library manual.\n",
      "    \n",
      "    setrecursionlimit(limit, /)\n",
      "        Set the maximum depth of the Python interpreter stack to n.\n",
      "        \n",
      "        This limit prevents infinite recursion from causing an overflow of the C\n",
      "        stack and crashing Python.  The highest possible limit is platform-\n",
      "        dependent.\n",
      "    \n",
      "    setswitchinterval(interval, /)\n",
      "        Set the ideal thread switching delay inside the Python interpreter.\n",
      "        \n",
      "        The actual frequency of switching threads can be lower if the\n",
      "        interpreter executes long sequences of uninterruptible code\n",
      "        (this is implementation-specific and workload-dependent).\n",
      "        \n",
      "        The parameter must represent the desired switching delay in seconds\n",
      "        A typical value is 0.005 (5 milliseconds).\n",
      "    \n",
      "    settrace(...)\n",
      "        settrace(function)\n",
      "        \n",
      "        Set the global debug tracing function.  It will be called on each\n",
      "        function call.  See the debugger chapter in the library manual.\n",
      "    \n",
      "    unraisablehook(unraisable, /)\n",
      "        Handle an unraisable exception.\n",
      "        \n",
      "        The unraisable argument has the following attributes:\n",
      "        \n",
      "        * exc_type: Exception type.\n",
      "        * exc_value: Exception value, can be None.\n",
      "        * exc_traceback: Exception traceback, can be None.\n",
      "        * err_msg: Error message, can be None.\n",
      "        * object: Object causing the exception, can be None.\n",
      "\n",
      "DATA\n",
      "    __stderr__ = <_io.TextIOWrapper name='<stderr>' mode='w' encoding='utf...\n",
      "    __stdin__ = <_io.TextIOWrapper name='<stdin>' mode='r' encoding='cp125...\n",
      "    __stdout__ = <_io.TextIOWrapper name='<stdout>' mode='w' encoding='utf...\n",
      "    api_version = 1013\n",
      "    argv = [r'C:\\Users\\jonat\\anaconda3\\Lib\\site-packages\\ipykernel_launche...\n",
      "    base_exec_prefix = r'C:\\Users\\jonat\\anaconda3'\n",
      "    base_prefix = r'C:\\Users\\jonat\\anaconda3'\n",
      "    builtin_module_names = ('_abc', '_ast', '_bisect', '_blake2', '_codecs...\n",
      "    byteorder = 'little'\n",
      "    copyright = 'Copyright (c) 2001-2023 Python Software Foundati...ematis...\n",
      "    displayhook = <ipykernel.displayhook.ZMQShellDisplayHook object>\n",
      "    dllhandle = 140710541524992\n",
      "    dont_write_bytecode = False\n",
      "    exec_prefix = r'C:\\Users\\jonat\\anaconda3'\n",
      "    executable = r'C:\\Users\\jonat\\anaconda3\\python.exe'\n",
      "    flags = sys.flags(debug=0, inspect=0, interactive=0, opt...coding=0, s...\n",
      "    float_info = sys.float_info(max=1.7976931348623157e+308, max_...epsilo...\n",
      "    float_repr_style = 'short'\n",
      "    hash_info = sys.hash_info(width=64, modulus=2305843009213693...iphash1...\n",
      "    hexversion = 51054576\n",
      "    implementation = namespace(name='cpython', cache_tag='cpython-311...as...\n",
      "    int_info = sys.int_info(bits_per_digit=30, sizeof_digit=4, ..._str_dig...\n",
      "    maxsize = 9223372036854775807\n",
      "    maxunicode = 1114111\n",
      "    meta_path = [<_distutils_hack.DistutilsMetaFinder object>, <class '_fr...\n",
      "    modules = {'IPython': <module 'IPython' from 'C:\\\\Users\\\\jonat\\\\anacon...\n",
      "    orig_argv = [r'C:/Users/jonat/anaconda3\\python.exe', '-m', 'ipykernel_...\n",
      "    path = [r'C:\\Users\\jonat\\VIU-Programacion\\Python para la IA\\01MIAR_OCT...\n",
      "    path_hooks = [<class 'zipimport.zipimporter'>, <function FileFinder.pa...\n",
      "    path_importer_cache = {r'C:\\Users\\jonat\\VIU-Programacion\\Python para l...\n",
      "    platform = 'win32'\n",
      "    platlibdir = 'DLLs'\n",
      "    prefix = r'C:\\Users\\jonat\\anaconda3'\n",
      "    ps1 = 'In : '\n",
      "    ps2 = '...: '\n",
      "    ps3 = 'Out: '\n",
      "    pycache_prefix = None\n",
      "    stderr = <ipykernel.iostream.OutStream object>\n",
      "    stdin = <_io.TextIOWrapper name='<stdin>' mode='r' encoding='cp1252'>\n",
      "    stdlib_module_names = frozenset({'__future__', '_abc', '_aix_support',...\n",
      "    stdout = <ipykernel.iostream.OutStream object>\n",
      "    thread_info = sys.thread_info(name='nt', lock=None, version=None)\n",
      "    version = '3.11.7 | packaged by Anaconda, Inc. | (main, Dec 15 2023, 1...\n",
      "    version_info = sys.version_info(major=3, minor=11, micro=7, releaselev...\n",
      "    warnoptions = []\n",
      "    winver = '3.11'\n",
      "\n",
      "FILE\n",
      "    (built-in)\n",
      "\n",
      "\n"
     ]
    }
   ],
   "source": [
    "import sys\n",
    "help(sys)"
   ]
  },
  {
   "cell_type": "markdown",
   "id": "0eb1d4cd-49c4-47f0-ad77-165e1be8b928",
   "metadata": {},
   "source": [
    "Los docstrings que ocupan más de una línea suelen tener estas partes:\n",
    "\n",
    "* Resumen en la primera línea.\n",
    "* Línea en blanco.\n",
    "* Descripción detallada.\n",
    "* Otra línea en blanco antes del código."
   ]
  },
  {
   "cell_type": "code",
   "execution_count": 33,
   "id": "c5fa0c88-4e07-49ba-972a-8789f9733e81",
   "metadata": {},
   "outputs": [
    {
     "name": "stdout",
     "output_type": "stream",
     "text": [
      "Help on function funcion_de_prueba2 in module __main__:\n",
      "\n",
      "funcion_de_prueba2()\n",
      "    Esta es la línea para el resumen.\n",
      "    \n",
      "    Este es el párrafo donde se puede escribir una descripción más\n",
      "    detallada de la función. Observa que el resumen y la descripción\n",
      "    detallada van separados por una línea en blanco. También hay\n",
      "    otra línea en blanco antes de empezar el código.\n",
      "\n"
     ]
    }
   ],
   "source": [
    "def funcion_de_prueba2():\n",
    "    \"\"\"Esta es la línea para el resumen.\n",
    "    \n",
    "    Este es el párrafo donde se puede escribir una descripción más\n",
    "    detallada de la función. Observa que el resumen y la descripción\n",
    "    detallada van separados por una línea en blanco. También hay\n",
    "    otra línea en blanco antes de empezar el código.\n",
    "    \"\"\"\n",
    "    \n",
    "    pass\n",
    "\n",
    "help(funcion_de_prueba2)"
   ]
  },
  {
   "cell_type": "markdown",
   "id": "5f4c2916-0205-4aab-858d-bd5e3dccb33f",
   "metadata": {},
   "source": [
    "Algunos comentarios adicionales:\n",
    "\n",
    "* Comentarios con '#' suelen asociarse a expresiones sencillas, instrucciones individuales o pequeños bloques de código.\n",
    "* Los docstrings son más apropiados para construcciones de más alto nivel: funciones, clases y módulos."
   ]
  },
  {
   "cell_type": "markdown",
   "id": "3fdb0467-b6d2-4222-9b4b-125fa58880c3",
   "metadata": {},
   "source": [
    "## Sphinx"
   ]
  },
  {
   "cell_type": "markdown",
   "id": "6312137c-122d-4272-868b-9756d2b142c0",
   "metadata": {},
   "source": [
    "* Herramienta de documentación.\n",
    "* Especialmente útil para sistemas grandes.\n",
    "* Da soporte a una gran variedad de formatos de salida: HTML, LaTeX, ePub, ..."
   ]
  },
  {
   "cell_type": "markdown",
   "id": "2fa123d2-4093-4cb1-89fb-790f93f6890d",
   "metadata": {},
   "source": [
    "Web de [Sphinx](https://www.sphinx-doc.org/)."
   ]
  },
  {
   "cell_type": "markdown",
   "id": "3d65b30a-3c07-4394-9f9c-5995756ae97c",
   "metadata": {},
   "source": [
    "[Proyectos](https://www.sphinx-doc.org/en/master/examples.html) que usan Sphinx."
   ]
  },
  {
   "cell_type": "markdown",
   "id": "b955fefb-5d6b-41cd-9784-99667997de0b",
   "metadata": {},
   "source": [
    "## Estilo"
   ]
  },
  {
   "cell_type": "markdown",
   "id": "6e557bcd-62a4-472a-b731-ae4663d0c15e",
   "metadata": {},
   "source": [
    "* Es importante que los docstrings sean consistentes.\n",
    "* El equipo de desarrollo debe acordar un formato y seguirlo rigurosamente."
   ]
  },
  {
   "cell_type": "markdown",
   "id": "5c5d03ca-8f3e-42b4-b36f-0bed2caa911e",
   "metadata": {},
   "source": [
    "#### Google Python Style Guide"
   ]
  },
  {
   "cell_type": "markdown",
   "id": "58c5a205-3e1d-44f2-a3af-9107060f7624",
   "metadata": {},
   "source": [
    "Google define la siguiente [guía de estilo](https://github.com/google/styleguide/blob/gh-pages/pyguide.md#38-comments-and-docstrings)."
   ]
  },
  {
   "cell_type": "markdown",
   "id": "9f393ac5-8fd6-4603-8dc0-a7fd2c1a1792",
   "metadata": {},
   "source": [
    "Contiene reglas para los docstrings de:\n",
    "\n",
    "* Módulos.\n",
    "* Métodos y funciones.\n",
    "* Clases."
   ]
  },
  {
   "cell_type": "markdown",
   "id": "d9e230da-6f4a-4f20-b517-5161c83a5174",
   "metadata": {},
   "source": [
    "## Ejercicios"
   ]
  },
  {
   "cell_type": "markdown",
   "id": "e3c1dcac-c010-4b15-8fd3-c61195de5407",
   "metadata": {},
   "source": [
    "1. Escribe una función que reciba una ruta de un fichero de texto y una cadena de caracteres a buscar y determine si la cadena aparece en el fichero."
   ]
  },
  {
   "cell_type": "code",
   "execution_count": 9,
   "id": "f72ea95b-f93f-4a10-b996-bed8e05b314b",
   "metadata": {},
   "outputs": [
    {
     "name": "stdout",
     "output_type": "stream",
     "text": [
      "True\n",
      "True\n"
     ]
    }
   ],
   "source": [
    "#Ejercicio 1\n",
    "def ruta_fichero(ruta,cadena):\n",
    "    with open(ruta) as fichero:\n",
    "        for i in fichero:\n",
    "            if cadena in i:\n",
    "                return True\n",
    "        return false\n",
    "print(ruta_fichero('res/VariasLineas.txt', 'tres')) # True\n",
    "print(ruta_fichero('res/VariasLineas.txt', 'hola')) # False \n",
    "        "
   ]
  },
  {
   "cell_type": "markdown",
   "id": "e469ae33-7751-4444-bbb3-1bc6689f65fb",
   "metadata": {},
   "source": [
    "2. Escribe una función que reciba una lista, una ruta destino y un número *n*. La función debe crear un fichero en la ruta especificada. El contenido del fichero serán los primeros *n* elementos de la lista. La función debe controlar de manera apropiada los posibles valores de *n* que estén fuera de rango."
   ]
  },
  {
   "cell_type": "code",
   "execution_count": 18,
   "id": "514ab012-7ce5-45e1-97cd-65c86772c971",
   "metadata": {},
   "outputs": [
    {
     "name": "stdout",
     "output_type": "stream",
     "text": [
      "EL fichero se creo correctamente\n"
     ]
    }
   ],
   "source": [
    "def crear_fichero (lista, ruta, n):\n",
    "    with open(ruta, \"w\") as fichero:\n",
    "        try:\n",
    "            if(n <0):\n",
    "                raise IndexError(\"El numero n no puede ser negativo\")\n",
    "            for i in range(n):\n",
    "                fichero.write(f\"{lista[i]}\\n\")\n",
    "            print(\"EL fichero se creo correctamente\")\n",
    "        except IndexError:\n",
    "                print(f\"El indice {n} ingresado es incorrecto dado que esta fuera de rango\")\n",
    "\n",
    "crear_fichero(['Hola', 'como', 'c', 'estas', 'e', 'f'], 'res/Ejercicio2.txt', 3)   "
   ]
  },
  {
   "cell_type": "markdown",
   "id": "8274a704-b86a-4f30-aa9c-7ac99e733044",
   "metadata": {},
   "source": [
    "3. Escribe una función que reciba una ruta de un fichero de texto devuelva un diccionario con la frecuencia de aparición de cada palabra. Ejemplo: un fichero que contenga la frase 'es mejor que venga que que no venga' devolverá el siguiente diccionario: {'es' : 1, 'mejor' : 1, 'que' : 3, 'venga' : 2, 'no' : 1}. Para dividir un string en palabras puedes hacer uso del método *split*."
   ]
  },
  {
   "cell_type": "code",
   "execution_count": 36,
   "id": "a1163785-07f6-4488-8351-673930fb123b",
   "metadata": {},
   "outputs": [
    {
     "name": "stdout",
     "output_type": "stream",
     "text": [
      "{'Hola': 2, 'como': 2, 'estas': 2, 'eres': 1, 'la': 2, 'persona': 2, 'mas': 2, 'linda': 2}\n"
     ]
    }
   ],
   "source": [
    "#Ejercicio 3\n",
    "\n",
    "def transformar_diccionario(ruta):\n",
    "     frecuencias = {}\n",
    "     with open(ruta) as fichero:\n",
    "         for i in fichero:\n",
    "             for palabra in i.split():\n",
    "                 if palabra in frecuencias:\n",
    "                    frecuencias[palabra] +=1\n",
    "                 else:\n",
    "                    frecuencias[palabra] = 1\n",
    "         return frecuencias\n",
    "print(transformar_diccionario('res/Ejercicio3.txt'))         \n"
   ]
  },
  {
   "cell_type": "code",
   "execution_count": null,
   "id": "02ae07ae-8277-4243-8ed3-dc7f809f24e1",
   "metadata": {},
   "outputs": [],
   "source": [
    "# Ejercicio 1\n",
    "\n",
    "def existe_en_fichero(ruta_fichero, patron_a_buscar):\n",
    "    with open(ruta_fichero) as fichero:\n",
    "        for linea in fichero:\n",
    "            if patron_a_buscar in linea:\n",
    "                return True\n",
    "    return False\n",
    "        \n",
    "        \n",
    "print(existe_en_fichero('res/VariasLineas.txt', 'tres')) # True\n",
    "print(existe_en_fichero('res/VariasLineas.txt', 'hola')) # False"
   ]
  },
  {
   "cell_type": "code",
   "execution_count": null,
   "id": "b82b8288-0d71-410f-9f68-acd76b4cb41c",
   "metadata": {},
   "outputs": [],
   "source": [
    "# Ejercicio 2\n",
    "\n",
    "def escribir_objetos(lista, ruta_fichero, n):\n",
    "    with open(ruta_fichero, 'w') as fichero:\n",
    "        try:\n",
    "            if(n < 0):\n",
    "                raise IndexError\n",
    "                \n",
    "            for i in range(n):\n",
    "                fichero.write(f\"{lista[i]}\\n\")\n",
    "            \n",
    "            print(f\"Fichero creado satisfactoriamente. Se escribieron {n} elementos en el fichero.\")\n",
    "        except IndexError:\n",
    "            print(f\"Acceso fuera de rango. Valor n incorrecto: {n}.\")\n",
    "            \n",
    "escribir_objetos(['a', 'b', 'c', 'd', 'e', 'f'], 'res/Ejercicio2.txt', 2)"
   ]
  },
  {
   "cell_type": "code",
   "execution_count": null,
   "id": "66c5ba69-932c-4300-b965-31a1fa79334f",
   "metadata": {},
   "outputs": [],
   "source": [
    "# Ejercicio 3\n",
    "\n",
    "def anyadir_palabra(frecuencias, palabra):\n",
    "    if palabra in frecuencias:\n",
    "        frecuencias[palabra] += 1\n",
    "    else:\n",
    "        frecuencias[palabra] = 1\n",
    "\n",
    "def obtener_frecuencias(ruta_fichero):\n",
    "    frecuencias = {}\n",
    "    with open(ruta_fichero) as fichero:\n",
    "        for linea in fichero:\n",
    "            for palabra in linea.split():\n",
    "                anyadir_palabra(frecuencias, palabra)\n",
    "    return frecuencias\n",
    "\n",
    "obtener_frecuencias('res/Ejercicio3.txt')"
   ]
  }
 ],
 "metadata": {
  "kernelspec": {
   "display_name": "Python 3 (ipykernel)",
   "language": "python",
   "name": "python3"
  },
  "language_info": {
   "codemirror_mode": {
    "name": "ipython",
    "version": 3
   },
   "file_extension": ".py",
   "mimetype": "text/x-python",
   "name": "python",
   "nbconvert_exporter": "python",
   "pygments_lexer": "ipython3",
   "version": "3.11.7"
  }
 },
 "nbformat": 4,
 "nbformat_minor": 5
}
